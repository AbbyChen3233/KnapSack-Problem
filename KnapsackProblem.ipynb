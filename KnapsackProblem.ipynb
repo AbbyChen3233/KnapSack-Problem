{
 "cells": [
  {
   "cell_type": "code",
   "execution_count": 1,
   "metadata": {},
   "outputs": [],
   "source": [
    "#1\n",
    "f = open('../Knapsack_Instances.csv')\n",
    "lines = [i.strip('\\n') for i in f.readlines()]\n",
    "f.close()\n",
    "\n",
    "weight_list = [i for i in lines if lines.index(i)%3==0]\n",
    "values_list = [i for i in lines if lines.index(i)%3==1]\n",
    "\n",
    "weight = [i.split(',') for i in weight_list]\n",
    "value = [i.split(',') for i in values_list]"
   ]
  },
  {
   "cell_type": "code",
   "execution_count": 2,
   "metadata": {},
   "outputs": [],
   "source": [
    "#2\n",
    "n=50\n",
    "c=100\n",
    "choices=[]\n",
    "for line in range(0,500):\n",
    "    w = [int(a) for a in weight[line]]\n",
    "    v = [float(b) for b in value[line]]\n",
    "       \n",
    "    the_value = [[0 for j in range(c+1)] for i in range(n+1)]\n",
    "\n",
    "    for i in range(1,n+1):\n",
    "        for j in range(1,c+1):\n",
    "            the_value[i][j]=the_value[i-1][j]  \n",
    "            if j >= w[i-1] and the_value[i][j]<the_value[i-1][j-w[i-1]]+v[i-1]:\n",
    "                the_value[i][j]=the_value[i-1][j-w[i-1]]+v[i-1]\n",
    "    decision=[0 for i in range(n)]\n",
    "    j=c\n",
    "    for i in range(n,0,-1):\n",
    "        if the_value[i][j]>the_value[i-1][j]:\n",
    "            decision[i-1]=1\n",
    "            j -= w[i-1]\n",
    "    choices.append(decision)\n",
    "\n",
    "spaces = []\n",
    "for i in weight:\n",
    "    space = [int(j) for j in i]\n",
    "    spaces.append(space)\n",
    "\n",
    "values = []\n",
    "for i in value:\n",
    "    value = [float(j) for j in i]\n",
    "    values.append(value)"
   ]
  },
  {
   "cell_type": "code",
   "execution_count": 4,
   "metadata": {},
   "outputs": [],
   "source": [
    "#3\n",
    "f = open('17_midterm_Knapsack.csv','w')\n",
    "for i in range(499):\n",
    "    f.writelines([str(spaces[i]).strip('[]')+\"\\n\",str(values[i]).strip('[]')+'\\n',str(choices[i]).strip('[]')+'\\n'])"
   ]
  }
 ],
 "metadata": {
  "kernelspec": {
   "display_name": "Python 3",
   "language": "python",
   "name": "python3"
  },
  "language_info": {
   "codemirror_mode": {
    "name": "ipython",
    "version": 3
   },
   "file_extension": ".py",
   "mimetype": "text/x-python",
   "name": "python",
   "nbconvert_exporter": "python",
   "pygments_lexer": "ipython3",
   "version": "3.7.3"
  }
 },
 "nbformat": 4,
 "nbformat_minor": 2
}
